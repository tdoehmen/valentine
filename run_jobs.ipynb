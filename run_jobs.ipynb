{
 "cells": [
  {
   "cell_type": "code",
   "execution_count": 42,
   "id": "12f0cae1",
   "metadata": {},
   "outputs": [],
   "source": [
    "!python generate_configuration_files.py"
   ]
  },
  {
   "cell_type": "code",
   "execution_count": 3,
   "id": "75e82132",
   "metadata": {},
   "outputs": [],
   "source": [
    "import os\n",
    "import subprocess"
   ]
  },
  {
   "cell_type": "code",
   "execution_count": 18,
   "id": "cf0598dc",
   "metadata": {},
   "outputs": [],
   "source": [
    "algorithm = \"LLMMatcher\"\n",
    "params = \"_\"\n",
    "#algorithm = \"JaccardLevenMatcher\"\n",
    "#params = \"_threshold_leven_0_7_process_num_4_\""
   ]
  },
  {
   "cell_type": "code",
   "execution_count": 4,
   "id": "4cbe569b",
   "metadata": {},
   "outputs": [],
   "source": [
    "datasets = os.listdir(f\"configuration_files/{algorithm}/\")"
   ]
  },
  {
   "cell_type": "code",
   "execution_count": null,
   "id": "4d96ec1b",
   "metadata": {
    "scrolled": false
   },
   "outputs": [
    {
     "name": "stdout",
     "output_type": "stream",
     "text": [
      "Running (0/680): configuration_files/LLMMatcher/arnaud_citeseer_content_paper/LLMMatcher_.json\n",
      "Running (1/680): configuration_files/LLMMatcher/atherosclerosis_contr_entry/LLMMatcher_.json\n",
      "Running (2/680): configuration_files/LLMMatcher/atherosclerosis_death_entry/LLMMatcher_.json\n",
      "Running (3/680): configuration_files/LLMMatcher/atherosclerosis_letter_entry/LLMMatcher_.json\n",
      "Running (4/680): configuration_files/LLMMatcher/australianfootball_matches_teams/LLMMatcher_.json\n",
      "Running (5/680): configuration_files/LLMMatcher/australianfootball_match_stats_matches/LLMMatcher_.json\n",
      "Running (6/680): configuration_files/LLMMatcher/australianfootball_match_stats_players/LLMMatcher_.json\n",
      "Running (7/680): configuration_files/LLMMatcher/australianfootball_match_stats_teams/LLMMatcher_.json\n",
      "Running (8/680): configuration_files/LLMMatcher/basketball_men_awards_players_players/LLMMatcher_.json\n",
      "Running (9/680): configuration_files/LLMMatcher/basketball_men_players_teams_players/LLMMatcher_.json\n",
      "Running (10/680): configuration_files/LLMMatcher/basketball_men_player_allstar_players/LLMMatcher_.json\n",
      "Running (11/680): configuration_files/LLMMatcher/basketball_women_awards_players_players/LLMMatcher_.json\n",
      "Running (12/680): configuration_files/LLMMatcher/basketball_women_players_teams_players/LLMMatcher_.json\n",
      "Running (13/680): configuration_files/LLMMatcher/biodegradability_atom_molecule/LLMMatcher_.json\n",
      "Running (14/680): configuration_files/LLMMatcher/biodegradability_bond_atom/LLMMatcher_.json\n",
      "Running (15/680): configuration_files/LLMMatcher/biodegradability_gmember_atom/LLMMatcher_.json\n",
      "Running (16/680): configuration_files/LLMMatcher/biodegradability_gmember_group/LLMMatcher_.json\n",
      "Running (17/680): configuration_files/LLMMatcher/bupa_alkphos_bupa_name/LLMMatcher_.json\n",
      "Running (18/680): configuration_files/LLMMatcher/bupa_bupa_bupa_name/LLMMatcher_.json\n",
      "Running (19/680): configuration_files/LLMMatcher/bupa_bupa_bupa_type/LLMMatcher_.json\n",
      "Running (20/680): configuration_files/LLMMatcher/bupa_drinks_bupa_name/LLMMatcher_.json\n",
      "Running (21/680): configuration_files/LLMMatcher/bupa_gammagt_bupa_name/LLMMatcher_.json\n",
      "Running (22/680): configuration_files/LLMMatcher/bupa_mcv_bupa_name/LLMMatcher_.json\n",
      "Running (23/680): configuration_files/LLMMatcher/bupa_sgot_bupa_name/LLMMatcher_.json\n",
      "Running (24/680): configuration_files/LLMMatcher/bupa_sgpt_bupa_name/LLMMatcher_.json\n",
      "Running (25/680): configuration_files/LLMMatcher/carcinogenesis_atom_canc/LLMMatcher_.json\n",
      "Running (26/680): configuration_files/LLMMatcher/carcinogenesis_sbond_1_atom/LLMMatcher_.json\n",
      "Running (27/680): configuration_files/LLMMatcher/carcinogenesis_sbond_1_canc/LLMMatcher_.json\n",
      "Running (28/680): configuration_files/LLMMatcher/carcinogenesis_sbond_2_atom/LLMMatcher_.json\n",
      "Running (29/680): configuration_files/LLMMatcher/carcinogenesis_sbond_2_canc/LLMMatcher_.json\n",
      "Running (30/680): configuration_files/LLMMatcher/carcinogenesis_sbond_3_atom/LLMMatcher_.json\n",
      "Running (31/680): configuration_files/LLMMatcher/carcinogenesis_sbond_3_canc/LLMMatcher_.json\n",
      "Running (32/680): configuration_files/LLMMatcher/carcinogenesis_sbond_7_atom/LLMMatcher_.json\n",
      "Running (33/680): configuration_files/LLMMatcher/carcinogenesis_sbond_7_canc/LLMMatcher_.json\n",
      "Running (34/680): configuration_files/LLMMatcher/ccs_transactions_customers/LLMMatcher_.json\n",
      "Running (35/680): configuration_files/LLMMatcher/ccs_transactions_gasstations/LLMMatcher_.json\n",
      "Running (36/680): configuration_files/LLMMatcher/ccs_transactions_products/LLMMatcher_.json\n",
      "Running (37/680): configuration_files/LLMMatcher/ccs_yearmonth_customers/LLMMatcher_.json\n",
      "Running (38/680): configuration_files/LLMMatcher/cdeschools_frpm_schools/LLMMatcher_.json\n",
      "Running (39/680): configuration_files/LLMMatcher/cdeschools_satscores_schools/LLMMatcher_.json\n",
      "Running (40/680): configuration_files/LLMMatcher/chess_game_opening/LLMMatcher_.json\n",
      "Running (41/680): configuration_files/LLMMatcher/citeseer_content_paper/LLMMatcher_.json\n",
      "Running (42/680): configuration_files/LLMMatcher/classicmodels_customers_employees/LLMMatcher_.json\n",
      "Running (43/680): configuration_files/LLMMatcher/classicmodels_employees_employees/LLMMatcher_.json\n",
      "Running (44/680): configuration_files/LLMMatcher/classicmodels_employees_offices/LLMMatcher_.json\n",
      "Running (45/680): configuration_files/LLMMatcher/classicmodels_orderdetails_orders/LLMMatcher_.json\n",
      "Running (46/680): configuration_files/LLMMatcher/classicmodels_orderdetails_products/LLMMatcher_.json\n",
      "Running (47/680): configuration_files/LLMMatcher/classicmodels_orders_customers/LLMMatcher_.json\n",
      "Running (48/680): configuration_files/LLMMatcher/classicmodels_payments_customers/LLMMatcher_.json\n",
      "Running (49/680): configuration_files/LLMMatcher/classicmodels_products_productlines/LLMMatcher_.json\n",
      "Running (50/680): configuration_files/LLMMatcher/cora_cites_paper/LLMMatcher_.json\n",
      "Running (51/680): configuration_files/LLMMatcher/cora_content_paper/LLMMatcher_.json\n",
      "Running (52/680): configuration_files/LLMMatcher/countries_data_metadata - countries/LLMMatcher_.json\n",
      "Running (53/680): configuration_files/LLMMatcher/countries_data_metadata - indicators/LLMMatcher_.json\n",
      "Running (54/680): configuration_files/LLMMatcher/countries_target_metadata - countries/LLMMatcher_.json\n",
      "Running (55/680): configuration_files/LLMMatcher/craftbeer_beers_breweries/LLMMatcher_.json\n",
      "Running (56/680): configuration_files/LLMMatcher/cs_accounts_account_types/LLMMatcher_.json\n",
      "Running (57/680): configuration_files/LLMMatcher/cs_accounts_organizations/LLMMatcher_.json\n",
      "Running (58/680): configuration_files/LLMMatcher/cs_accounts_products/LLMMatcher_.json\n",
      "Running (59/680): configuration_files/LLMMatcher/cs_account_transactions_accounts/LLMMatcher_.json\n",
      "Running (60/680): configuration_files/LLMMatcher/cs_account_transactions_account_transact_types/LLMMatcher_.json\n",
      "Running (61/680): configuration_files/LLMMatcher/cs_account_transactions_account_types/LLMMatcher_.json\n",
      "Running (62/680): configuration_files/LLMMatcher/cs_parties_organizations/LLMMatcher_.json\n",
      "Running (63/680): configuration_files/LLMMatcher/cs_target_churn_accounts/LLMMatcher_.json\n",
      "Running (64/680): configuration_files/LLMMatcher/ctu_crossschema2_card_disp/LLMMatcher_.json\n",
      "Running (65/680): configuration_files/LLMMatcher/ctu_crossschema2_client_district/LLMMatcher_.json\n",
      "Running (66/680): configuration_files/LLMMatcher/ctu_crossschema2_disp_client/LLMMatcher_.json\n",
      "Running (67/680): configuration_files/LLMMatcher/ctu_datatype_benchmark_dimension_target/LLMMatcher_.json\n",
      "Running (68/680): configuration_files/LLMMatcher/dallas_officers_incidents/LLMMatcher_.json\n",
      "Running (69/680): configuration_files/LLMMatcher/dallas_subjects_incidents/LLMMatcher_.json\n",
      "Running (70/680): configuration_files/LLMMatcher/dcg_terms_sentences/LLMMatcher_.json\n",
      "Running (71/680): configuration_files/LLMMatcher/dunur_aunt_person/LLMMatcher_.json\n",
      "Running (72/680): configuration_files/LLMMatcher/dunur_brother_person/LLMMatcher_.json\n",
      "Running (73/680): configuration_files/LLMMatcher/dunur_daughter_person/LLMMatcher_.json\n",
      "Running (74/680): configuration_files/LLMMatcher/dunur_dunur_person/LLMMatcher_.json\n",
      "Running (75/680): configuration_files/LLMMatcher/dunur_father_person/LLMMatcher_.json\n",
      "Running (76/680): configuration_files/LLMMatcher/dunur_husband2_person/LLMMatcher_.json\n",
      "Running (77/680): configuration_files/LLMMatcher/dunur_husband_person/LLMMatcher_.json\n",
      "Running (78/680): configuration_files/LLMMatcher/dunur_mother_person/LLMMatcher_.json\n",
      "Running (79/680): configuration_files/LLMMatcher/dunur_nephew_person/LLMMatcher_.json\n",
      "Running (80/680): configuration_files/LLMMatcher/dunur_niece_person/LLMMatcher_.json\n",
      "Running (81/680): configuration_files/LLMMatcher/dunur_sister_person/LLMMatcher_.json\n",
      "Running (82/680): configuration_files/LLMMatcher/dunur_son_person/LLMMatcher_.json\n",
      "Running (83/680): configuration_files/LLMMatcher/dunur_target_person/LLMMatcher_.json\n",
      "Running (84/680): configuration_files/LLMMatcher/dunur_uncle_person/LLMMatcher_.json\n",
      "Running (85/680): configuration_files/LLMMatcher/dunur_wife2_person/LLMMatcher_.json\n",
      "Running (86/680): configuration_files/LLMMatcher/dunur_wife_person/LLMMatcher_.json\n",
      "Running (87/680): configuration_files/LLMMatcher/elti_brother_person/LLMMatcher_.json\n"
     ]
    },
    {
     "name": "stdout",
     "output_type": "stream",
     "text": [
      "Running (88/680): configuration_files/LLMMatcher/elti_daughter_person/LLMMatcher_.json\n",
      "Running (89/680): configuration_files/LLMMatcher/elti_elti_person/LLMMatcher_.json\n",
      "Running (90/680): configuration_files/LLMMatcher/elti_father_person/LLMMatcher_.json\n",
      "Running (91/680): configuration_files/LLMMatcher/elti_husband_person/LLMMatcher_.json\n",
      "Running (92/680): configuration_files/LLMMatcher/elti_mother_person/LLMMatcher_.json\n",
      "Running (93/680): configuration_files/LLMMatcher/elti_sister_person/LLMMatcher_.json\n",
      "Running (94/680): configuration_files/LLMMatcher/elti_son_person/LLMMatcher_.json\n",
      "Running (95/680): configuration_files/LLMMatcher/elti_target_person/LLMMatcher_.json\n",
      "Running (96/680): configuration_files/LLMMatcher/elti_wife_person/LLMMatcher_.json\n",
      "Running (97/680): configuration_files/LLMMatcher/ergastf1_constructorresults_constructors/LLMMatcher_.json\n",
      "Running (98/680): configuration_files/LLMMatcher/ergastf1_constructorresults_races/LLMMatcher_.json\n",
      "Running (99/680): configuration_files/LLMMatcher/ergastf1_constructorstandings_constructors/LLMMatcher_.json\n",
      "Running (100/680): configuration_files/LLMMatcher/ergastf1_constructorstandings_races/LLMMatcher_.json\n",
      "Running (101/680): configuration_files/LLMMatcher/ergastf1_driverstandings_drivers/LLMMatcher_.json\n",
      "Running (102/680): configuration_files/LLMMatcher/ergastf1_driverstandings_races/LLMMatcher_.json\n",
      "Running (103/680): configuration_files/LLMMatcher/ergastf1_laptimes_drivers/LLMMatcher_.json\n",
      "Running (104/680): configuration_files/LLMMatcher/ergastf1_laptimes_races/LLMMatcher_.json\n",
      "Running (105/680): configuration_files/LLMMatcher/ergastf1_pitstops_drivers/LLMMatcher_.json\n",
      "Running (106/680): configuration_files/LLMMatcher/ergastf1_pitstops_races/LLMMatcher_.json\n",
      "Running (107/680): configuration_files/LLMMatcher/ergastf1_qualifying_constructors/LLMMatcher_.json\n",
      "Running (108/680): configuration_files/LLMMatcher/ergastf1_qualifying_drivers/LLMMatcher_.json\n",
      "Running (109/680): configuration_files/LLMMatcher/ergastf1_qualifying_races/LLMMatcher_.json\n",
      "Running (110/680): configuration_files/LLMMatcher/ergastf1_races_circuits/LLMMatcher_.json\n",
      "Running (111/680): configuration_files/LLMMatcher/ergastf1_races_seasons/LLMMatcher_.json\n",
      "Running (112/680): configuration_files/LLMMatcher/ergastf1_results_constructors/LLMMatcher_.json\n",
      "Running (113/680): configuration_files/LLMMatcher/ergastf1_results_drivers/LLMMatcher_.json\n",
      "Running (114/680): configuration_files/LLMMatcher/ergastf1_results_races/LLMMatcher_.json\n",
      "Running (115/680): configuration_files/LLMMatcher/ergastf1_results_status/LLMMatcher_.json\n",
      "Running (116/680): configuration_files/LLMMatcher/ergastf1_target_drivers/LLMMatcher_.json\n",
      "Running (117/680): configuration_files/LLMMatcher/ergastf1_target_races/LLMMatcher_.json\n",
      "Running (118/680): configuration_files/LLMMatcher/facebook_edges_feat/LLMMatcher_.json\n",
      "Running (119/680): configuration_files/LLMMatcher/financial_std_loan_acc_acc/LLMMatcher_.json\n",
      "Running (120/680): configuration_files/LLMMatcher/financial_std_loan_acc_loan/LLMMatcher_.json\n",
      "Running (121/680): configuration_files/LLMMatcher/financial_std_loan_order_loan/LLMMatcher_.json\n",
      "Running (122/680): configuration_files/LLMMatcher/financial_std_loan_order_order/LLMMatcher_.json\n",
      "Running (123/680): configuration_files/LLMMatcher/financial_std_loan_trans_loan/LLMMatcher_.json\n",
      "Running (124/680): configuration_files/LLMMatcher/financial_std_loan_trans_trans/LLMMatcher_.json\n",
      "Running (125/680): configuration_files/LLMMatcher/fnhk_vykony_pripady/LLMMatcher_.json\n",
      "Running (126/680): configuration_files/LLMMatcher/fnhk_zup_pripady/LLMMatcher_.json\n",
      "Running (127/680): configuration_files/LLMMatcher/ftp_product_session/LLMMatcher_.json\n",
      "Running (128/680): configuration_files/LLMMatcher/geneea_bod_schuze_bod_stav/LLMMatcher_.json\n",
      "Running (129/680): configuration_files/LLMMatcher/geneea_bod_schuze_schuze/LLMMatcher_.json\n",
      "Running (130/680): configuration_files/LLMMatcher/geneea_funkce_organy/LLMMatcher_.json\n",
      "Running (131/680): configuration_files/LLMMatcher/geneea_funkce_typ_funkce/LLMMatcher_.json\n",
      "Running (132/680): configuration_files/LLMMatcher/geneea_hl_check_hl_hlasovani/LLMMatcher_.json\n",
      "Running (133/680): configuration_files/LLMMatcher/geneea_hl_hlasovani_organy/LLMMatcher_.json\n",
      "Running (134/680): configuration_files/LLMMatcher/geneea_hl_poslanec_poslanec/LLMMatcher_.json\n",
      "Running (135/680): configuration_files/LLMMatcher/geneea_hl_vazby_hl_hlasovani/LLMMatcher_.json\n",
      "Running (136/680): configuration_files/LLMMatcher/geneea_hl_zposlanec_hl_hlasovani/LLMMatcher_.json\n",
      "Running (137/680): configuration_files/LLMMatcher/geneea_hl_zposlanec_osoby/LLMMatcher_.json\n",
      "Running (138/680): configuration_files/LLMMatcher/geneea_omluvy_organy/LLMMatcher_.json\n",
      "Running (139/680): configuration_files/LLMMatcher/geneea_omluvy_poslanec/LLMMatcher_.json\n",
      "Running (140/680): configuration_files/LLMMatcher/geneea_organy_typ_organu/LLMMatcher_.json\n",
      "Running (141/680): configuration_files/LLMMatcher/geneea_pkgps_poslanec/LLMMatcher_.json\n",
      "Running (142/680): configuration_files/LLMMatcher/geneea_poslanec_osoby/LLMMatcher_.json\n",
      "Running (143/680): configuration_files/LLMMatcher/geneea_schuze_organy/LLMMatcher_.json\n",
      "Running (144/680): configuration_files/LLMMatcher/geneea_schuze_stav_schuze/LLMMatcher_.json\n",
      "Running (145/680): configuration_files/LLMMatcher/geneea_typ_funkce_typ_organu/LLMMatcher_.json\n",
      "Running (146/680): configuration_files/LLMMatcher/geneea_zarazeni_osoby/LLMMatcher_.json\n",
      "Running (147/680): configuration_files/LLMMatcher/geneea_zmatecne_hl_hlasovani/LLMMatcher_.json\n",
      "Running (148/680): configuration_files/LLMMatcher/genes_genes_classification/LLMMatcher_.json\n",
      "Running (149/680): configuration_files/LLMMatcher/genes_interactions_classification/LLMMatcher_.json\n",
      "Running (150/680): configuration_files/LLMMatcher/gosales_go_1k_go_products/LLMMatcher_.json\n",
      "Running (151/680): configuration_files/LLMMatcher/gosales_go_1k_go_retailers/LLMMatcher_.json\n",
      "Running (152/680): configuration_files/LLMMatcher/gosales_go_daily_sales_go_methods/LLMMatcher_.json\n",
      "Running (153/680): configuration_files/LLMMatcher/hepatitis_std_rel11_bio/LLMMatcher_.json\n",
      "Running (154/680): configuration_files/LLMMatcher/hepatitis_std_rel11_dispat/LLMMatcher_.json\n",
      "Running (155/680): configuration_files/LLMMatcher/hepatitis_std_rel12_dispat/LLMMatcher_.json\n",
      "Running (156/680): configuration_files/LLMMatcher/hepatitis_std_rel12_indis/LLMMatcher_.json\n",
      "Running (157/680): configuration_files/LLMMatcher/hepatitis_std_rel13_dispat/LLMMatcher_.json\n",
      "Running (158/680): configuration_files/LLMMatcher/hepatitis_std_rel13_inf/LLMMatcher_.json\n",
      "Running (159/680): configuration_files/LLMMatcher/hockey_awardscoaches_coaches/LLMMatcher_.json\n",
      "Running (160/680): configuration_files/LLMMatcher/hockey_awardsplayers_master/LLMMatcher_.json\n",
      "Running (161/680): configuration_files/LLMMatcher/hockey_combinedshutouts_master/LLMMatcher_.json\n",
      "Running (162/680): configuration_files/LLMMatcher/hockey_goaliessc_master/LLMMatcher_.json\n",
      "Running (163/680): configuration_files/LLMMatcher/hockey_goaliesshootout_master/LLMMatcher_.json\n",
      "Running (164/680): configuration_files/LLMMatcher/hockey_goalies_master/LLMMatcher_.json\n",
      "Running (165/680): configuration_files/LLMMatcher/hockey_master_coaches/LLMMatcher_.json\n",
      "Running (166/680): configuration_files/LLMMatcher/hockey_scoringsc_master/LLMMatcher_.json\n",
      "Running (167/680): configuration_files/LLMMatcher/hockey_scoringshootout_master/LLMMatcher_.json\n",
      "Running (168/680): configuration_files/LLMMatcher/hockey_scoringsup_master/LLMMatcher_.json\n",
      "Running (169/680): configuration_files/LLMMatcher/hockey_scoring_master/LLMMatcher_.json\n",
      "Running (170/680): configuration_files/LLMMatcher/imdb_1r_hasrated_movie/LLMMatcher_.json\n",
      "Running (171/680): configuration_files/LLMMatcher/imdb_1r_hasrated_user/LLMMatcher_.json\n",
      "Running (172/680): configuration_files/LLMMatcher/imdb_full_business_movies/LLMMatcher_.json\n",
      "Running (173/680): configuration_files/LLMMatcher/imdb_full_countries_movies/LLMMatcher_.json\n",
      "Running (174/680): configuration_files/LLMMatcher/imdb_full_distributors_movies/LLMMatcher_.json\n",
      "Running (175/680): configuration_files/LLMMatcher/imdb_full_genres_movies/LLMMatcher_.json\n",
      "Running (176/680): configuration_files/LLMMatcher/imdb_full_language_movies/LLMMatcher_.json\n"
     ]
    },
    {
     "name": "stdout",
     "output_type": "stream",
     "text": [
      "Running (177/680): configuration_files/LLMMatcher/imdb_full_movies2actors_actors/LLMMatcher_.json\n",
      "Running (178/680): configuration_files/LLMMatcher/imdb_full_movies2actors_movies/LLMMatcher_.json\n",
      "Running (179/680): configuration_files/LLMMatcher/imdb_full_movies2directors_directors/LLMMatcher_.json\n",
      "Running (180/680): configuration_files/LLMMatcher/imdb_full_movies2directors_movies/LLMMatcher_.json\n",
      "Running (181/680): configuration_files/LLMMatcher/imdb_full_movies2editors_editors/LLMMatcher_.json\n",
      "Running (182/680): configuration_files/LLMMatcher/imdb_full_movies2editors_movies/LLMMatcher_.json\n",
      "Running (183/680): configuration_files/LLMMatcher/imdb_full_movies2producers_movies/LLMMatcher_.json\n",
      "Running (184/680): configuration_files/LLMMatcher/imdb_full_movies2producers_producers/LLMMatcher_.json\n",
      "Running (185/680): configuration_files/LLMMatcher/imdb_full_movies2writers_movies/LLMMatcher_.json\n",
      "Running (186/680): configuration_files/LLMMatcher/imdb_full_movies2writers_writers/LLMMatcher_.json\n",
      "Running (187/680): configuration_files/LLMMatcher/imdb_full_prodcompanies_movies/LLMMatcher_.json\n",
      "Running (188/680): configuration_files/LLMMatcher/imdb_full_ratings_movies/LLMMatcher_.json\n",
      "Running (189/680): configuration_files/LLMMatcher/imdb_full_runningtimes_movies/LLMMatcher_.json\n",
      "Running (190/680): configuration_files/LLMMatcher/imdb_movielens_movies2actors_actors/LLMMatcher_.json\n",
      "Running (191/680): configuration_files/LLMMatcher/imdb_movielens_movies2actors_movies/LLMMatcher_.json\n",
      "Running (192/680): configuration_files/LLMMatcher/imdb_movielens_movies2directors_directors/LLMMatcher_.json\n",
      "Running (193/680): configuration_files/LLMMatcher/imdb_movielens_movies2directors_movies/LLMMatcher_.json\n",
      "Running (194/680): configuration_files/LLMMatcher/imdb_movielens_u2base_movies/LLMMatcher_.json\n",
      "Running (195/680): configuration_files/LLMMatcher/imdb_movielens_u2base_users/LLMMatcher_.json\n",
      "Running (196/680): configuration_files/LLMMatcher/imdb_small_directors_genres_directors/LLMMatcher_.json\n",
      "Running (197/680): configuration_files/LLMMatcher/imdb_small_movies_directors_directors/LLMMatcher_.json\n",
      "Running (198/680): configuration_files/LLMMatcher/imdb_small_movies_directors_movies/LLMMatcher_.json\n",
      "Running (199/680): configuration_files/LLMMatcher/imdb_small_movies_genres_movies/LLMMatcher_.json\n",
      "Running (200/680): configuration_files/LLMMatcher/imdb_small_roles_actors/LLMMatcher_.json\n",
      "Running (201/680): configuration_files/LLMMatcher/imdb_small_roles_movies/LLMMatcher_.json\n",
      "Running (202/680): configuration_files/LLMMatcher/lahman_2014_allstarfull_teams/LLMMatcher_.json\n",
      "Running (203/680): configuration_files/LLMMatcher/lahman_2014_appearances_players/LLMMatcher_.json\n",
      "Running (204/680): configuration_files/LLMMatcher/lahman_2014_awardsmanagers_managers/LLMMatcher_.json\n",
      "Running (205/680): configuration_files/LLMMatcher/lahman_2014_awardsplayers_players/LLMMatcher_.json\n",
      "Running (206/680): configuration_files/LLMMatcher/lahman_2014_awardssharemanagers_managers/LLMMatcher_.json\n",
      "Running (207/680): configuration_files/LLMMatcher/lahman_2014_awardsshareplayers_players/LLMMatcher_.json\n",
      "Running (208/680): configuration_files/LLMMatcher/lahman_2014_battingpost_players/LLMMatcher_.json\n",
      "Running (209/680): configuration_files/LLMMatcher/lahman_2014_battingpost_teams/LLMMatcher_.json\n",
      "Running (210/680): configuration_files/LLMMatcher/lahman_2014_batting_players/LLMMatcher_.json\n",
      "Running (211/680): configuration_files/LLMMatcher/lahman_2014_batting_teams/LLMMatcher_.json\n",
      "Running (212/680): configuration_files/LLMMatcher/lahman_2014_els_teamnames_teams/LLMMatcher_.json\n",
      "Running (213/680): configuration_files/LLMMatcher/lahman_2014_els_teamnames_teamsfranchises/LLMMatcher_.json\n",
      "Running (214/680): configuration_files/LLMMatcher/lahman_2014_fieldingof_players/LLMMatcher_.json\n",
      "Running (215/680): configuration_files/LLMMatcher/lahman_2014_fieldingpost_players/LLMMatcher_.json\n",
      "Running (216/680): configuration_files/LLMMatcher/lahman_2014_fieldingpost_teams/LLMMatcher_.json\n",
      "Running (217/680): configuration_files/LLMMatcher/lahman_2014_fielding_players/LLMMatcher_.json\n",
      "Running (218/680): configuration_files/LLMMatcher/lahman_2014_fielding_teams/LLMMatcher_.json\n",
      "Running (219/680): configuration_files/LLMMatcher/lahman_2014_managershalf_managers/LLMMatcher_.json\n",
      "Running (220/680): configuration_files/LLMMatcher/lahman_2014_managershalf_teams/LLMMatcher_.json\n",
      "Running (221/680): configuration_files/LLMMatcher/lahman_2014_managers_teams/LLMMatcher_.json\n",
      "Running (222/680): configuration_files/LLMMatcher/lahman_2014_pitchingpost_players/LLMMatcher_.json\n",
      "Running (223/680): configuration_files/LLMMatcher/lahman_2014_pitchingpost_teams/LLMMatcher_.json\n",
      "Running (224/680): configuration_files/LLMMatcher/lahman_2014_pitching_players/LLMMatcher_.json\n",
      "Running (225/680): configuration_files/LLMMatcher/lahman_2014_pitching_teams/LLMMatcher_.json\n",
      "Running (226/680): configuration_files/LLMMatcher/lahman_2014_players_halloffame/LLMMatcher_.json\n",
      "Running (227/680): configuration_files/LLMMatcher/lahman_2014_salaries_teams/LLMMatcher_.json\n",
      "Running (228/680): configuration_files/LLMMatcher/lahman_2014_schoolsplayers_players/LLMMatcher_.json\n",
      "Running (229/680): configuration_files/LLMMatcher/lahman_2014_schoolsplayers_schools/LLMMatcher_.json\n",
      "Running (230/680): configuration_files/LLMMatcher/lahman_2014_seriespost_teams/LLMMatcher_.json\n",
      "Running (231/680): configuration_files/LLMMatcher/lahman_2014_teamshalf_teams/LLMMatcher_.json\n",
      "Running (232/680): configuration_files/LLMMatcher/medical_examination_patient/LLMMatcher_.json\n",
      "Running (233/680): configuration_files/LLMMatcher/medical_laboratory_patient/LLMMatcher_.json\n",
      "Running (234/680): configuration_files/LLMMatcher/mesh_circuit_element/LLMMatcher_.json\n",
      "Running (235/680): configuration_files/LLMMatcher/mesh_circuit_hole_element/LLMMatcher_.json\n",
      "Running (236/680): configuration_files/LLMMatcher/mesh_cont_loaded_element/LLMMatcher_.json\n",
      "Running (237/680): configuration_files/LLMMatcher/mesh_equal_element/LLMMatcher_.json\n",
      "Running (238/680): configuration_files/LLMMatcher/mesh_fixed_element/LLMMatcher_.json\n",
      "Running (239/680): configuration_files/LLMMatcher/mesh_free_element/LLMMatcher_.json\n",
      "Running (240/680): configuration_files/LLMMatcher/mesh_half_circuit_element/LLMMatcher_.json\n",
      "Running (241/680): configuration_files/LLMMatcher/mesh_half_circuit_hole_element/LLMMatcher_.json\n",
      "Running (242/680): configuration_files/LLMMatcher/mesh_llong_element/LLMMatcher_.json\n",
      "Running (243/680): configuration_files/LLMMatcher/mesh_long_for_hole_element/LLMMatcher_.json\n",
      "Running (244/680): configuration_files/LLMMatcher/mesh_mesh_element/LLMMatcher_.json\n",
      "Running (245/680): configuration_files/LLMMatcher/mesh_mesh_nnumber/LLMMatcher_.json\n",
      "Running (246/680): configuration_files/LLMMatcher/mesh_mesh_test_element/LLMMatcher_.json\n",
      "Running (247/680): configuration_files/LLMMatcher/mesh_mesh_test_neg_element/LLMMatcher_.json\n",
      "Running (248/680): configuration_files/LLMMatcher/mesh_neighbour_xy_element/LLMMatcher_.json\n",
      "Running (249/680): configuration_files/LLMMatcher/mesh_neighbour_yz_element/LLMMatcher_.json\n",
      "Running (250/680): configuration_files/LLMMatcher/mesh_neighbour_zx_element/LLMMatcher_.json\n",
      "Running (251/680): configuration_files/LLMMatcher/mesh_noload_element/LLMMatcher_.json\n",
      "Running (252/680): configuration_files/LLMMatcher/mesh_notimportant_element/LLMMatcher_.json\n",
      "Running (253/680): configuration_files/LLMMatcher/mesh_one_side_fixed_element/LLMMatcher_.json\n",
      "Running (254/680): configuration_files/LLMMatcher/mesh_one_side_loaded_element/LLMMatcher_.json\n",
      "Running (255/680): configuration_files/LLMMatcher/mesh_opposite_element/LLMMatcher_.json\n",
      "Running (256/680): configuration_files/LLMMatcher/mesh_quarter_circuit_element/LLMMatcher_.json\n",
      "Running (257/680): configuration_files/LLMMatcher/mesh_short_for_hole_element/LLMMatcher_.json\n",
      "Running (258/680): configuration_files/LLMMatcher/mesh_sshort_element/LLMMatcher_.json\n",
      "Running (259/680): configuration_files/LLMMatcher/mesh_two_side_fixed_element/LLMMatcher_.json\n",
      "Running (260/680): configuration_files/LLMMatcher/mesh_two_side_loaded_element/LLMMatcher_.json\n",
      "Running (261/680): configuration_files/LLMMatcher/mesh_usual_element/LLMMatcher_.json\n"
     ]
    },
    {
     "name": "stdout",
     "output_type": "stream",
     "text": [
      "Running (262/680): configuration_files/LLMMatcher/mondial_borders_country/LLMMatcher_.json\n",
      "Running (263/680): configuration_files/LLMMatcher/mondial_city_country/LLMMatcher_.json\n",
      "Running (264/680): configuration_files/LLMMatcher/mondial_economy_country/LLMMatcher_.json\n",
      "Running (265/680): configuration_files/LLMMatcher/mondial_encompasses_continent/LLMMatcher_.json\n",
      "Running (266/680): configuration_files/LLMMatcher/mondial_encompasses_country/LLMMatcher_.json\n",
      "Running (267/680): configuration_files/LLMMatcher/mondial_ethnicgroup_country/LLMMatcher_.json\n",
      "Running (268/680): configuration_files/LLMMatcher/mondial_geo_borders_country/LLMMatcher_.json\n",
      "Running (269/680): configuration_files/LLMMatcher/mondial_geo_capt_country_city/LLMMatcher_.json\n",
      "Running (270/680): configuration_files/LLMMatcher/mondial_geo_capt_country_country/LLMMatcher_.json\n",
      "Running (271/680): configuration_files/LLMMatcher/mondial_geo_capt_prov_city/LLMMatcher_.json\n",
      "Running (272/680): configuration_files/LLMMatcher/mondial_geo_capt_prov_province/LLMMatcher_.json\n",
      "Running (273/680): configuration_files/LLMMatcher/mondial_geo_cityinprov_city/LLMMatcher_.json\n",
      "Running (274/680): configuration_files/LLMMatcher/mondial_geo_cityinprov_province/LLMMatcher_.json\n",
      "Running (275/680): configuration_files/LLMMatcher/mondial_geo_countryofprov_country/LLMMatcher_.json\n",
      "Running (276/680): configuration_files/LLMMatcher/mondial_geo_countryofprov_province/LLMMatcher_.json\n",
      "Running (277/680): configuration_files/LLMMatcher/mondial_geo_desert_country/LLMMatcher_.json\n",
      "Running (278/680): configuration_files/LLMMatcher/mondial_geo_desert_desert/LLMMatcher_.json\n",
      "Running (279/680): configuration_files/LLMMatcher/mondial_geo_encompasses_continent/LLMMatcher_.json\n",
      "Running (280/680): configuration_files/LLMMatcher/mondial_geo_encompasses_country/LLMMatcher_.json\n",
      "Running (281/680): configuration_files/LLMMatcher/mondial_geo_estuary_country/LLMMatcher_.json\n",
      "Running (282/680): configuration_files/LLMMatcher/mondial_geo_estuary_river/LLMMatcher_.json\n",
      "Running (283/680): configuration_files/LLMMatcher/mondial_geo_island_country/LLMMatcher_.json\n",
      "Running (284/680): configuration_files/LLMMatcher/mondial_geo_island_island/LLMMatcher_.json\n",
      "Running (285/680): configuration_files/LLMMatcher/mondial_geo_lake_country/LLMMatcher_.json\n",
      "Running (286/680): configuration_files/LLMMatcher/mondial_geo_lake_lake/LLMMatcher_.json\n",
      "Running (287/680): configuration_files/LLMMatcher/mondial_geo_mountain_country/LLMMatcher_.json\n",
      "Running (288/680): configuration_files/LLMMatcher/mondial_geo_mountain_mountain/LLMMatcher_.json\n",
      "Running (289/680): configuration_files/LLMMatcher/mondial_geo_river_country/LLMMatcher_.json\n",
      "Running (290/680): configuration_files/LLMMatcher/mondial_geo_river_river/LLMMatcher_.json\n",
      "Running (291/680): configuration_files/LLMMatcher/mondial_geo_sea_country/LLMMatcher_.json\n",
      "Running (292/680): configuration_files/LLMMatcher/mondial_geo_sea_sea/LLMMatcher_.json\n",
      "Running (293/680): configuration_files/LLMMatcher/mondial_geo_source_country/LLMMatcher_.json\n",
      "Running (294/680): configuration_files/LLMMatcher/mondial_geo_source_river/LLMMatcher_.json\n",
      "Running (295/680): configuration_files/LLMMatcher/mondial_islandin_island/LLMMatcher_.json\n",
      "Running (296/680): configuration_files/LLMMatcher/mondial_islandin_lake/LLMMatcher_.json\n",
      "Running (297/680): configuration_files/LLMMatcher/mondial_islandin_river/LLMMatcher_.json\n",
      "Running (298/680): configuration_files/LLMMatcher/mondial_islandin_sea/LLMMatcher_.json\n",
      "Running (299/680): configuration_files/LLMMatcher/mondial_ismember_country/LLMMatcher_.json\n",
      "Running (300/680): configuration_files/LLMMatcher/mondial_ismember_organization/LLMMatcher_.json\n",
      "Running (301/680): configuration_files/LLMMatcher/mondial_language_country/LLMMatcher_.json\n",
      "Running (302/680): configuration_files/LLMMatcher/mondial_locatedon_country/LLMMatcher_.json\n",
      "Running (303/680): configuration_files/LLMMatcher/mondial_locatedon_island/LLMMatcher_.json\n",
      "Running (304/680): configuration_files/LLMMatcher/mondial_located_country/LLMMatcher_.json\n",
      "Running (305/680): configuration_files/LLMMatcher/mondial_located_lake/LLMMatcher_.json\n",
      "Running (306/680): configuration_files/LLMMatcher/mondial_located_river/LLMMatcher_.json\n",
      "Running (307/680): configuration_files/LLMMatcher/mondial_located_sea/LLMMatcher_.json\n",
      "Running (308/680): configuration_files/LLMMatcher/mondial_mergeswith_sea/LLMMatcher_.json\n",
      "Running (309/680): configuration_files/LLMMatcher/mondial_mountainonisland_island/LLMMatcher_.json\n",
      "Running (310/680): configuration_files/LLMMatcher/mondial_mountainonisland_mountain/LLMMatcher_.json\n",
      "Running (311/680): configuration_files/LLMMatcher/mondial_organization_country/LLMMatcher_.json\n",
      "Running (312/680): configuration_files/LLMMatcher/mondial_politics_country/LLMMatcher_.json\n",
      "Running (313/680): configuration_files/LLMMatcher/mondial_population_country/LLMMatcher_.json\n",
      "Running (314/680): configuration_files/LLMMatcher/mondial_province_country/LLMMatcher_.json\n",
      "Running (315/680): configuration_files/LLMMatcher/mondial_religion_country/LLMMatcher_.json\n",
      "Running (316/680): configuration_files/LLMMatcher/mondial_river_lake/LLMMatcher_.json\n",
      "Running (317/680): configuration_files/LLMMatcher/mondial_target_country/LLMMatcher_.json\n",
      "Running (318/680): configuration_files/LLMMatcher/mondial_tutorial_borders_country/LLMMatcher_.json\n",
      "Running (319/680): configuration_files/LLMMatcher/mooney_family_aunt1_person/LLMMatcher_.json\n",
      "Running (320/680): configuration_files/LLMMatcher/mooney_family_aunt2_person/LLMMatcher_.json\n",
      "Running (321/680): configuration_files/LLMMatcher/mooney_family_aunt3_person/LLMMatcher_.json\n",
      "Running (322/680): configuration_files/LLMMatcher/mooney_family_aunt4_person/LLMMatcher_.json\n",
      "Running (323/680): configuration_files/LLMMatcher/mooney_family_aunt5_person/LLMMatcher_.json\n",
      "Running (324/680): configuration_files/LLMMatcher/mooney_family_aunt_person/LLMMatcher_.json\n",
      "Running (325/680): configuration_files/LLMMatcher/mooney_family_brother1_person/LLMMatcher_.json\n",
      "Running (326/680): configuration_files/LLMMatcher/mooney_family_brother2_person/LLMMatcher_.json\n",
      "Running (327/680): configuration_files/LLMMatcher/mooney_family_brother3_person/LLMMatcher_.json\n",
      "Running (328/680): configuration_files/LLMMatcher/mooney_family_brother4_person/LLMMatcher_.json\n",
      "Running (329/680): configuration_files/LLMMatcher/mooney_family_brother5_person/LLMMatcher_.json\n",
      "Running (330/680): configuration_files/LLMMatcher/mooney_family_brother_person/LLMMatcher_.json\n",
      "Running (331/680): configuration_files/LLMMatcher/mooney_family_daughter1_person/LLMMatcher_.json\n",
      "Running (332/680): configuration_files/LLMMatcher/mooney_family_daughter2_person/LLMMatcher_.json\n",
      "Running (333/680): configuration_files/LLMMatcher/mooney_family_daughter3_person/LLMMatcher_.json\n",
      "Running (334/680): configuration_files/LLMMatcher/mooney_family_daughter4_person/LLMMatcher_.json\n",
      "Running (335/680): configuration_files/LLMMatcher/mooney_family_daughter5_person/LLMMatcher_.json\n",
      "Running (336/680): configuration_files/LLMMatcher/mooney_family_daughter_person/LLMMatcher_.json\n",
      "Running (337/680): configuration_files/LLMMatcher/mooney_family_father1_person/LLMMatcher_.json\n",
      "Running (338/680): configuration_files/LLMMatcher/mooney_family_father2_person/LLMMatcher_.json\n",
      "Running (339/680): configuration_files/LLMMatcher/mooney_family_father3_person/LLMMatcher_.json\n",
      "Running (340/680): configuration_files/LLMMatcher/mooney_family_father4_person/LLMMatcher_.json\n",
      "Running (341/680): configuration_files/LLMMatcher/mooney_family_father5_person/LLMMatcher_.json\n",
      "Running (342/680): configuration_files/LLMMatcher/mooney_family_father_person/LLMMatcher_.json\n",
      "Running (343/680): configuration_files/LLMMatcher/mooney_family_husband1_person/LLMMatcher_.json\n",
      "Running (344/680): configuration_files/LLMMatcher/mooney_family_husband2_person/LLMMatcher_.json\n",
      "Running (345/680): configuration_files/LLMMatcher/mooney_family_husband3_person/LLMMatcher_.json\n",
      "Running (346/680): configuration_files/LLMMatcher/mooney_family_husband4_person/LLMMatcher_.json\n",
      "Running (347/680): configuration_files/LLMMatcher/mooney_family_husband5_person/LLMMatcher_.json\n",
      "Running (348/680): configuration_files/LLMMatcher/mooney_family_husband_person/LLMMatcher_.json\n"
     ]
    },
    {
     "name": "stdout",
     "output_type": "stream",
     "text": [
      "Running (349/680): configuration_files/LLMMatcher/mooney_family_mother1_person/LLMMatcher_.json\n",
      "Running (350/680): configuration_files/LLMMatcher/mooney_family_mother2_person/LLMMatcher_.json\n",
      "Running (351/680): configuration_files/LLMMatcher/mooney_family_mother3_person/LLMMatcher_.json\n",
      "Running (352/680): configuration_files/LLMMatcher/mooney_family_mother4_person/LLMMatcher_.json\n",
      "Running (353/680): configuration_files/LLMMatcher/mooney_family_mother5_person/LLMMatcher_.json\n",
      "Running (354/680): configuration_files/LLMMatcher/mooney_family_mother_person/LLMMatcher_.json\n",
      "Running (355/680): configuration_files/LLMMatcher/mooney_family_nephew1_person/LLMMatcher_.json\n",
      "Running (356/680): configuration_files/LLMMatcher/mooney_family_nephew2_person/LLMMatcher_.json\n",
      "Running (357/680): configuration_files/LLMMatcher/mooney_family_nephew3_person/LLMMatcher_.json\n",
      "Running (358/680): configuration_files/LLMMatcher/mooney_family_nephew4_person/LLMMatcher_.json\n",
      "Running (359/680): configuration_files/LLMMatcher/mooney_family_nephew5_person/LLMMatcher_.json\n",
      "Running (360/680): configuration_files/LLMMatcher/mooney_family_nephew_person/LLMMatcher_.json\n",
      "Running (361/680): configuration_files/LLMMatcher/mooney_family_niece1_person/LLMMatcher_.json\n",
      "Running (362/680): configuration_files/LLMMatcher/mooney_family_niece2_person/LLMMatcher_.json\n",
      "Running (363/680): configuration_files/LLMMatcher/mooney_family_niece3_person/LLMMatcher_.json\n",
      "Running (364/680): configuration_files/LLMMatcher/mooney_family_niece4_person/LLMMatcher_.json\n",
      "Running (365/680): configuration_files/LLMMatcher/mooney_family_niece5_person/LLMMatcher_.json\n",
      "Running (366/680): configuration_files/LLMMatcher/mooney_family_niece_person/LLMMatcher_.json\n",
      "Running (367/680): configuration_files/LLMMatcher/mooney_family_sister1_person/LLMMatcher_.json\n",
      "Running (368/680): configuration_files/LLMMatcher/mooney_family_sister2_person/LLMMatcher_.json\n",
      "Running (369/680): configuration_files/LLMMatcher/mooney_family_sister3_person/LLMMatcher_.json\n",
      "Running (370/680): configuration_files/LLMMatcher/mooney_family_sister4_person/LLMMatcher_.json\n",
      "Running (371/680): configuration_files/LLMMatcher/mooney_family_sister5_person/LLMMatcher_.json\n",
      "Running (372/680): configuration_files/LLMMatcher/mooney_family_sister_person/LLMMatcher_.json\n",
      "Running (373/680): configuration_files/LLMMatcher/mooney_family_son1_person/LLMMatcher_.json\n",
      "Running (374/680): configuration_files/LLMMatcher/mooney_family_son2_person/LLMMatcher_.json\n",
      "Running (375/680): configuration_files/LLMMatcher/mooney_family_son3_person/LLMMatcher_.json\n",
      "Running (376/680): configuration_files/LLMMatcher/mooney_family_son4_person/LLMMatcher_.json\n",
      "Running (377/680): configuration_files/LLMMatcher/mooney_family_son5_person/LLMMatcher_.json\n",
      "Running (378/680): configuration_files/LLMMatcher/mooney_family_son_person/LLMMatcher_.json\n",
      "Running (379/680): configuration_files/LLMMatcher/mooney_family_uncle1_person/LLMMatcher_.json\n",
      "Running (380/680): configuration_files/LLMMatcher/mooney_family_uncle2_person/LLMMatcher_.json\n",
      "Running (381/680): configuration_files/LLMMatcher/mooney_family_uncle3_person/LLMMatcher_.json\n",
      "Running (382/680): configuration_files/LLMMatcher/mooney_family_uncle4_person/LLMMatcher_.json\n",
      "Running (383/680): configuration_files/LLMMatcher/mooney_family_uncle5_person/LLMMatcher_.json\n",
      "Running (384/680): configuration_files/LLMMatcher/mooney_family_uncle_person/LLMMatcher_.json\n",
      "Running (385/680): configuration_files/LLMMatcher/mooney_family_wife_person/LLMMatcher_.json\n",
      "Running (386/680): configuration_files/LLMMatcher/musklarge_conformation_molecule/LLMMatcher_.json\n",
      "Running (387/680): configuration_files/LLMMatcher/musksmall_conformation_molecule/LLMMatcher_.json\n",
      "Running (388/680): configuration_files/LLMMatcher/mutagenesis_188_atoms_drugs/LLMMatcher_.json\n",
      "Running (389/680): configuration_files/LLMMatcher/mutagenesis_188_bonds_atoms/LLMMatcher_.json\n",
      "Running (390/680): configuration_files/LLMMatcher/mutagenesis_188_bonds_drugs/LLMMatcher_.json\n",
      "Running (391/680): configuration_files/LLMMatcher/mutagenesis_188_rings_ring_strucs/LLMMatcher_.json\n",
      "Running (392/680): configuration_files/LLMMatcher/mutagenesis_188_ring_atom_atoms/LLMMatcher_.json\n",
      "Running (393/680): configuration_files/LLMMatcher/mutagenesis_188_ring_atom_rings/LLMMatcher_.json\n",
      "Running (394/680): configuration_files/LLMMatcher/mutagenesis_188_ring_strucs_drugs/LLMMatcher_.json\n",
      "Running (395/680): configuration_files/LLMMatcher/mutagenesis_42_atoms_drugs/LLMMatcher_.json\n",
      "Running (396/680): configuration_files/LLMMatcher/mutagenesis_42_bonds_atoms/LLMMatcher_.json\n",
      "Running (397/680): configuration_files/LLMMatcher/mutagenesis_42_bonds_drugs/LLMMatcher_.json\n",
      "Running (398/680): configuration_files/LLMMatcher/mutagenesis_42_rings_ring_strucs/LLMMatcher_.json\n",
      "Running (399/680): configuration_files/LLMMatcher/mutagenesis_42_ring_atom_atoms/LLMMatcher_.json\n",
      "Running (400/680): configuration_files/LLMMatcher/mutagenesis_42_ring_atom_rings/LLMMatcher_.json\n",
      "Running (401/680): configuration_files/LLMMatcher/mutagenesis_42_ring_strucs_drugs/LLMMatcher_.json\n",
      "Running (402/680): configuration_files/LLMMatcher/nations_country_stat/LLMMatcher_.json\n",
      "Running (403/680): configuration_files/LLMMatcher/nations_relation_country/LLMMatcher_.json\n",
      "Running (404/680): configuration_files/LLMMatcher/nba_actions_game/LLMMatcher_.json\n",
      "Running (405/680): configuration_files/LLMMatcher/nba_actions_player/LLMMatcher_.json\n",
      "Running (406/680): configuration_files/LLMMatcher/nba_actions_team/LLMMatcher_.json\n",
      "Running (407/680): configuration_files/LLMMatcher/nba_game_team/LLMMatcher_.json\n",
      "Running (408/680): configuration_files/LLMMatcher/ncaa_regular_season_compact_results_seasons/LLMMatcher_.json\n",
      "Running (409/680): configuration_files/LLMMatcher/ncaa_regular_season_compact_results_teams/LLMMatcher_.json\n",
      "Running (410/680): configuration_files/LLMMatcher/ncaa_regular_season_detailed_results_seasons/LLMMatcher_.json\n",
      "Running (411/680): configuration_files/LLMMatcher/ncaa_regular_season_detailed_results_teams/LLMMatcher_.json\n",
      "Running (412/680): configuration_files/LLMMatcher/ncaa_target_teams/LLMMatcher_.json\n",
      "Running (413/680): configuration_files/LLMMatcher/ncaa_tourney_compact_results_seasons/LLMMatcher_.json\n",
      "Running (414/680): configuration_files/LLMMatcher/ncaa_tourney_compact_results_teams/LLMMatcher_.json\n",
      "Running (415/680): configuration_files/LLMMatcher/ncaa_tourney_detailed_results_seasons/LLMMatcher_.json\n",
      "Running (416/680): configuration_files/LLMMatcher/ncaa_tourney_detailed_results_teams/LLMMatcher_.json\n",
      "Running (417/680): configuration_files/LLMMatcher/ncaa_tourney_seeds_seasons/LLMMatcher_.json\n",
      "Running (418/680): configuration_files/LLMMatcher/ncaa_tourney_seeds_teams/LLMMatcher_.json\n",
      "Running (419/680): configuration_files/LLMMatcher/ncaa_tourney_slots_seasons/LLMMatcher_.json\n",
      "Running (420/680): configuration_files/LLMMatcher/nhl_draft_seasonstatus_playerinfo/LLMMatcher_.json\n",
      "Running (421/680): configuration_files/LLMMatcher/pima_age_pima/LLMMatcher_.json\n",
      "Running (422/680): configuration_files/LLMMatcher/pima_bmi_pima/LLMMatcher_.json\n",
      "Running (423/680): configuration_files/LLMMatcher/pima_diastolic_pima/LLMMatcher_.json\n",
      "Running (424/680): configuration_files/LLMMatcher/pima_numpreg_pima/LLMMatcher_.json\n",
      "Running (425/680): configuration_files/LLMMatcher/pima_pedigree_pima/LLMMatcher_.json\n",
      "Running (426/680): configuration_files/LLMMatcher/pima_plasma_pima/LLMMatcher_.json\n",
      "Running (427/680): configuration_files/LLMMatcher/pima_serum_pima/LLMMatcher_.json\n",
      "Running (428/680): configuration_files/LLMMatcher/pima_tricepts_pima/LLMMatcher_.json\n",
      "Running (429/680): configuration_files/LLMMatcher/premierleague_actions_matches/LLMMatcher_.json\n",
      "Running (430/680): configuration_files/LLMMatcher/premierleague_actions_players/LLMMatcher_.json\n",
      "Running (431/680): configuration_files/LLMMatcher/premierleague_actions_teams/LLMMatcher_.json\n",
      "Running (432/680): configuration_files/LLMMatcher/premierleague_matches_teams/LLMMatcher_.json\n",
      "Running (433/680): configuration_files/LLMMatcher/pte_active_pte_drug/LLMMatcher_.json\n",
      "Running (434/680): configuration_files/LLMMatcher/pte_postestactive_neg_pte_drug/LLMMatcher_.json\n",
      "Running (435/680): configuration_files/LLMMatcher/pte_postestactive_pte_drug/LLMMatcher_.json\n"
     ]
    },
    {
     "name": "stdout",
     "output_type": "stream",
     "text": [
      "Running (436/680): configuration_files/LLMMatcher/pte_pte_active_pte_drug/LLMMatcher_.json\n",
      "Running (437/680): configuration_files/LLMMatcher/pte_pte_active_pte_number/LLMMatcher_.json\n",
      "Running (438/680): configuration_files/LLMMatcher/pte_pte_alcohol_pte_drug/LLMMatcher_.json\n",
      "Running (439/680): configuration_files/LLMMatcher/pte_pte_alkyl_halide_pte_drug/LLMMatcher_.json\n",
      "Running (440/680): configuration_files/LLMMatcher/pte_pte_ames_pte_drug/LLMMatcher_.json\n",
      "Running (441/680): configuration_files/LLMMatcher/pte_pte_amine_pte_drug/LLMMatcher_.json\n",
      "Running (442/680): configuration_files/LLMMatcher/pte_pte_atm_bond_count_pte_atm/LLMMatcher_.json\n",
      "Running (443/680): configuration_files/LLMMatcher/pte_pte_atm_count_pte_drug/LLMMatcher_.json\n",
      "Running (444/680): configuration_files/LLMMatcher/pte_pte_atm_max_charge_pte_drug/LLMMatcher_.json\n",
      "Running (445/680): configuration_files/LLMMatcher/pte_pte_atm_min_charge_pte_drug/LLMMatcher_.json\n",
      "Running (446/680): configuration_files/LLMMatcher/pte_pte_atm_pte_drug/LLMMatcher_.json\n",
      "Running (447/680): configuration_files/LLMMatcher/pte_pte_bond_count_pte_drug/LLMMatcher_.json\n",
      "Running (448/680): configuration_files/LLMMatcher/pte_pte_bond_pte_atm/LLMMatcher_.json\n",
      "Running (449/680): configuration_files/LLMMatcher/pte_pte_bond_pte_drug/LLMMatcher_.json\n",
      "Running (450/680): configuration_files/LLMMatcher/pte_pte_ester_pte_drug/LLMMatcher_.json\n",
      "Running (451/680): configuration_files/LLMMatcher/pte_pte_ether_pte_drug/LLMMatcher_.json\n",
      "Running (452/680): configuration_files/LLMMatcher/pte_pte_five_ring_pte_drug/LLMMatcher_.json\n",
      "Running (453/680): configuration_files/LLMMatcher/pte_pte_has_property_pte_drug/LLMMatcher_.json\n",
      "Running (454/680): configuration_files/LLMMatcher/pte_pte_imine_pte_drug/LLMMatcher_.json\n",
      "Running (455/680): configuration_files/LLMMatcher/pte_pte_ind_pte_drug/LLMMatcher_.json\n",
      "Running (456/680): configuration_files/LLMMatcher/pte_pte_ketone_pte_drug/LLMMatcher_.json\n",
      "Running (457/680): configuration_files/LLMMatcher/pte_pte_methoxy_pte_drug/LLMMatcher_.json\n",
      "Running (458/680): configuration_files/LLMMatcher/pte_pte_methyl_pte_drug/LLMMatcher_.json\n",
      "Running (459/680): configuration_files/LLMMatcher/pte_pte_mutagenic_pte_drug/LLMMatcher_.json\n",
      "Running (460/680): configuration_files/LLMMatcher/pte_pte_nitro_pte_drug/LLMMatcher_.json\n",
      "Running (461/680): configuration_files/LLMMatcher/pte_pte_non_ar_5c_ring_pte_drug/LLMMatcher_.json\n",
      "Running (462/680): configuration_files/LLMMatcher/pte_pte_non_ar_6c_ring_pte_drug/LLMMatcher_.json\n",
      "Running (463/680): configuration_files/LLMMatcher/pte_pte_non_ar_hetero_5_ring_pte_drug/LLMMatcher_.json\n",
      "Running (464/680): configuration_files/LLMMatcher/pte_pte_non_ar_hetero_6_ring_pte_drug/LLMMatcher_.json\n",
      "Running (465/680): configuration_files/LLMMatcher/pte_pte_phenol_pte_drug/LLMMatcher_.json\n",
      "Running (466/680): configuration_files/LLMMatcher/pte_pte_six_ring_pte_drug/LLMMatcher_.json\n",
      "Running (467/680): configuration_files/LLMMatcher/pte_pte_sulfide_pte_drug/LLMMatcher_.json\n",
      "Running (468/680): configuration_files/LLMMatcher/pte_pte_sulfo_pte_drug/LLMMatcher_.json\n",
      "Running (469/680): configuration_files/LLMMatcher/pte_pte_testactive_neg_pte_drug/LLMMatcher_.json\n",
      "Running (470/680): configuration_files/LLMMatcher/pte_pte_testactive_pte_drug/LLMMatcher_.json\n",
      "Running (471/680): configuration_files/LLMMatcher/pyrimidine_position_molecule/LLMMatcher_.json\n",
      "Running (472/680): configuration_files/LLMMatcher/restbase_generalinfo_geographic/LLMMatcher_.json\n",
      "Running (473/680): configuration_files/LLMMatcher/restbase_location_generalinfo/LLMMatcher_.json\n",
      "Running (474/680): configuration_files/LLMMatcher/restbase_location_geographic/LLMMatcher_.json\n",
      "Running (475/680): configuration_files/LLMMatcher/sakila_address_city/LLMMatcher_.json\n",
      "Running (476/680): configuration_files/LLMMatcher/sakila_city_country/LLMMatcher_.json\n",
      "Running (477/680): configuration_files/LLMMatcher/sakila_customer_address/LLMMatcher_.json\n",
      "Running (478/680): configuration_files/LLMMatcher/sakila_customer_store/LLMMatcher_.json\n",
      "Running (479/680): configuration_files/LLMMatcher/sakila_film_actor_actor/LLMMatcher_.json\n",
      "Running (480/680): configuration_files/LLMMatcher/sakila_film_actor_film/LLMMatcher_.json\n",
      "Running (481/680): configuration_files/LLMMatcher/sakila_film_category_category/LLMMatcher_.json\n",
      "Running (482/680): configuration_files/LLMMatcher/sakila_film_category_film/LLMMatcher_.json\n",
      "Running (483/680): configuration_files/LLMMatcher/sakila_film_language/LLMMatcher_.json\n",
      "Running (484/680): configuration_files/LLMMatcher/sakila_inventory_film/LLMMatcher_.json\n",
      "Running (485/680): configuration_files/LLMMatcher/sakila_inventory_store/LLMMatcher_.json\n",
      "Running (486/680): configuration_files/LLMMatcher/sakila_payment_customer/LLMMatcher_.json\n",
      "Running (487/680): configuration_files/LLMMatcher/sakila_payment_rental/LLMMatcher_.json\n",
      "Running (488/680): configuration_files/LLMMatcher/sakila_payment_staff/LLMMatcher_.json\n",
      "Running (489/680): configuration_files/LLMMatcher/sakila_rental_customer/LLMMatcher_.json\n",
      "Running (490/680): configuration_files/LLMMatcher/sakila_rental_inventory/LLMMatcher_.json\n",
      "Running (491/680): configuration_files/LLMMatcher/sakila_rental_staff/LLMMatcher_.json\n",
      "Running (492/680): configuration_files/LLMMatcher/sakila_staff_address/LLMMatcher_.json\n",
      "Running (493/680): configuration_files/LLMMatcher/sakila_staff_store/LLMMatcher_.json\n",
      "Running (494/680): configuration_files/LLMMatcher/sakila_store_address/LLMMatcher_.json\n",
      "Running (495/680): configuration_files/LLMMatcher/sakila_store_staff/LLMMatcher_.json\n",
      "Running (496/680): configuration_files/LLMMatcher/same_gen_parent_person/LLMMatcher_.json\n",
      "Running (497/680): configuration_files/LLMMatcher/same_gen_same_gen_person/LLMMatcher_.json\n",
      "Running (498/680): configuration_files/LLMMatcher/same_gen_target_person/LLMMatcher_.json\n",
      "Running (499/680): configuration_files/LLMMatcher/sat_fault_test_time/LLMMatcher_.json\n",
      "Running (500/680): configuration_files/LLMMatcher/sat_fault_test_trfl/LLMMatcher_.json\n",
      "Running (501/680): configuration_files/LLMMatcher/sat_fault_time/LLMMatcher_.json\n",
      "Running (502/680): configuration_files/LLMMatcher/sat_fault_trfl/LLMMatcher_.json\n",
      "Running (503/680): configuration_files/LLMMatcher/sat_gmt_mission_phase_time/LLMMatcher_.json\n",
      "Running (504/680): configuration_files/LLMMatcher/sat_succ_time/LLMMatcher_.json\n",
      "Running (505/680): configuration_files/LLMMatcher/sat_tm001_eod_relay_class/LLMMatcher_.json\n",
      "Running (506/680): configuration_files/LLMMatcher/sat_tm001_eod_relay_time/LLMMatcher_.json\n",
      "Running (507/680): configuration_files/LLMMatcher/sat_tm002_battov_temp_class/LLMMatcher_.json\n",
      "Running (508/680): configuration_files/LLMMatcher/sat_tm002_battov_temp_time/LLMMatcher_.json\n",
      "Running (509/680): configuration_files/LLMMatcher/sat_tm004_eoc_signaled_class/LLMMatcher_.json\n",
      "Running (510/680): configuration_files/LLMMatcher/sat_tm004_eoc_signaled_time/LLMMatcher_.json\n",
      "Running (511/680): configuration_files/LLMMatcher/sat_tm007_switch_class/LLMMatcher_.json\n",
      "Running (512/680): configuration_files/LLMMatcher/sat_tm007_switch_time/LLMMatcher_.json\n",
      "Running (513/680): configuration_files/LLMMatcher/sat_tm009_switch_class/LLMMatcher_.json\n",
      "Running (514/680): configuration_files/LLMMatcher/sat_tm009_switch_time/LLMMatcher_.json\n",
      "Running (515/680): configuration_files/LLMMatcher/sat_tm011_eod_override_class/LLMMatcher_.json\n",
      "Running (516/680): configuration_files/LLMMatcher/sat_tm011_eod_override_time/LLMMatcher_.json\n",
      "Running (517/680): configuration_files/LLMMatcher/sat_tm013_switch_class/LLMMatcher_.json\n",
      "Running (518/680): configuration_files/LLMMatcher/sat_tm013_switch_time/LLMMatcher_.json\n",
      "Running (519/680): configuration_files/LLMMatcher/sat_tm015_eod_signaled_class/LLMMatcher_.json\n",
      "Running (520/680): configuration_files/LLMMatcher/sat_tm015_eod_signaled_time/LLMMatcher_.json\n",
      "Running (521/680): configuration_files/LLMMatcher/sat_tm017_switch_class/LLMMatcher_.json\n",
      "Running (522/680): configuration_files/LLMMatcher/sat_tm017_switch_time/LLMMatcher_.json\n",
      "Running (523/680): configuration_files/LLMMatcher/sat_tm018_switch_class/LLMMatcher_.json\n",
      "Running (524/680): configuration_files/LLMMatcher/sat_tm018_switch_time/LLMMatcher_.json\n",
      "Running (525/680): configuration_files/LLMMatcher/sat_tm021_eoc_disabled_class/LLMMatcher_.json\n"
     ]
    },
    {
     "name": "stdout",
     "output_type": "stream",
     "text": [
      "Running (526/680): configuration_files/LLMMatcher/sat_tm021_eoc_disabled_time/LLMMatcher_.json\n",
      "Running (527/680): configuration_files/LLMMatcher/sat_tm022_switch_class/LLMMatcher_.json\n",
      "Running (528/680): configuration_files/LLMMatcher/sat_tm022_switch_time/LLMMatcher_.json\n",
      "Running (529/680): configuration_files/LLMMatcher/sat_tm029_ovt_disabled_class/LLMMatcher_.json\n",
      "Running (530/680): configuration_files/LLMMatcher/sat_tm029_ovt_disabled_time/LLMMatcher_.json\n",
      "Running (531/680): configuration_files/LLMMatcher/sat_tm031_switch_class/LLMMatcher_.json\n",
      "Running (532/680): configuration_files/LLMMatcher/sat_tm031_switch_time/LLMMatcher_.json\n",
      "Running (533/680): configuration_files/LLMMatcher/sat_tm038_switch_class/LLMMatcher_.json\n",
      "Running (534/680): configuration_files/LLMMatcher/sat_tm038_switch_time/LLMMatcher_.json\n",
      "Running (535/680): configuration_files/LLMMatcher/sat_tm039_eod_disabled_class/LLMMatcher_.json\n",
      "Running (536/680): configuration_files/LLMMatcher/sat_tm039_eod_disabled_time/LLMMatcher_.json\n",
      "Running (537/680): configuration_files/LLMMatcher/sat_tm040_switch_class/LLMMatcher_.json\n",
      "Running (538/680): configuration_files/LLMMatcher/sat_tm040_switch_time/LLMMatcher_.json\n",
      "Running (539/680): configuration_files/LLMMatcher/sat_tm042_switch_class/LLMMatcher_.json\n",
      "Running (540/680): configuration_files/LLMMatcher/sat_tm042_switch_time/LLMMatcher_.json\n",
      "Running (541/680): configuration_files/LLMMatcher/sat_tm043_switch_class/LLMMatcher_.json\n",
      "Running (542/680): configuration_files/LLMMatcher/sat_tm043_switch_time/LLMMatcher_.json\n",
      "Running (543/680): configuration_files/LLMMatcher/sat_tm054_supply_1a_class/LLMMatcher_.json\n",
      "Running (544/680): configuration_files/LLMMatcher/sat_tm054_supply_1a_time/LLMMatcher_.json\n",
      "Running (545/680): configuration_files/LLMMatcher/sat_tm055_supply_1b_class/LLMMatcher_.json\n",
      "Running (546/680): configuration_files/LLMMatcher/sat_tm055_supply_1b_time/LLMMatcher_.json\n",
      "Running (547/680): configuration_files/LLMMatcher/sat_tm057_supply_2c_class/LLMMatcher_.json\n",
      "Running (548/680): configuration_files/LLMMatcher/sat_tm057_supply_2c_time/LLMMatcher_.json\n",
      "Running (549/680): configuration_files/LLMMatcher/sat_tm058_asr_or_switch_10_class/LLMMatcher_.json\n",
      "Running (550/680): configuration_files/LLMMatcher/sat_tm058_asr_or_switch_10_time/LLMMatcher_.json\n",
      "Running (551/680): configuration_files/LLMMatcher/sat_tm070_supply_3c_class/LLMMatcher_.json\n",
      "Running (552/680): configuration_files/LLMMatcher/sat_tm070_supply_3c_time/LLMMatcher_.json\n",
      "Running (553/680): configuration_files/LLMMatcher/sat_tm071_asr_or_switch_20_class/LLMMatcher_.json\n",
      "Running (554/680): configuration_files/LLMMatcher/sat_tm071_asr_or_switch_20_time/LLMMatcher_.json\n",
      "Running (555/680): configuration_files/LLMMatcher/sat_tm211_bus_voltage_class/LLMMatcher_.json\n",
      "Running (556/680): configuration_files/LLMMatcher/sat_tm211_bus_voltage_time/LLMMatcher_.json\n",
      "Running (557/680): configuration_files/LLMMatcher/sat_tm220_supply_1c_class/LLMMatcher_.json\n",
      "Running (558/680): configuration_files/LLMMatcher/sat_tm220_supply_1c_time/LLMMatcher_.json\n",
      "Running (559/680): configuration_files/LLMMatcher/sat_tm222_charging_class/LLMMatcher_.json\n",
      "Running (560/680): configuration_files/LLMMatcher/sat_tm222_charging_time/LLMMatcher_.json\n",
      "Running (561/680): configuration_files/LLMMatcher/sat_tm257_battery_voltage_class/LLMMatcher_.json\n",
      "Running (562/680): configuration_files/LLMMatcher/sat_tm257_battery_voltage_time/LLMMatcher_.json\n",
      "Running (563/680): configuration_files/LLMMatcher/sfscores_inspections_businesses/LLMMatcher_.json\n",
      "Running (564/680): configuration_files/LLMMatcher/sfscores_violations_businesses/LLMMatcher_.json\n"
     ]
    }
   ],
   "source": [
    "for i, dataset in enumerate(datasets):\n",
    "    config = f\"configuration_files/{algorithm}/{dataset}/{algorithm}{params}.json\"\n",
    "    print(f\"Running ({i}/{len(datasets)}): {config}\")\n",
    "    call = f\"python run_job.py --conf={config}\"\n",
    "    os.system(call)"
   ]
  },
  {
   "cell_type": "code",
   "execution_count": null,
   "id": "a23d3866",
   "metadata": {},
   "outputs": [],
   "source": []
  },
  {
   "cell_type": "code",
   "execution_count": 5,
   "id": "db38f04a",
   "metadata": {},
   "outputs": [],
   "source": [
    "algorithm = \"JaccardLevenMatcher\"\n",
    "params = \"_threshold_leven_0_7_process_num_4_\""
   ]
  },
  {
   "cell_type": "code",
   "execution_count": null,
   "id": "816e37b2",
   "metadata": {
    "scrolled": true
   },
   "outputs": [
    {
     "name": "stdout",
     "output_type": "stream",
     "text": [
      "Running (0/680): configuration_files/JaccardLevenMatcher/arnaud_citeseer_content_paper/JaccardLevenMatcher_threshold_leven_0_7_process_num_4_.json\n",
      "Running (1/680): configuration_files/JaccardLevenMatcher/atherosclerosis_contr_entry/JaccardLevenMatcher_threshold_leven_0_7_process_num_4_.json\n",
      "Running (2/680): configuration_files/JaccardLevenMatcher/atherosclerosis_death_entry/JaccardLevenMatcher_threshold_leven_0_7_process_num_4_.json\n",
      "Running (3/680): configuration_files/JaccardLevenMatcher/atherosclerosis_letter_entry/JaccardLevenMatcher_threshold_leven_0_7_process_num_4_.json\n",
      "Running (4/680): configuration_files/JaccardLevenMatcher/australianfootball_matches_teams/JaccardLevenMatcher_threshold_leven_0_7_process_num_4_.json\n",
      "Running (5/680): configuration_files/JaccardLevenMatcher/australianfootball_match_stats_matches/JaccardLevenMatcher_threshold_leven_0_7_process_num_4_.json\n",
      "Running (6/680): configuration_files/JaccardLevenMatcher/australianfootball_match_stats_players/JaccardLevenMatcher_threshold_leven_0_7_process_num_4_.json\n",
      "Running (7/680): configuration_files/JaccardLevenMatcher/australianfootball_match_stats_teams/JaccardLevenMatcher_threshold_leven_0_7_process_num_4_.json\n",
      "Running (8/680): configuration_files/JaccardLevenMatcher/basketball_men_awards_players_players/JaccardLevenMatcher_threshold_leven_0_7_process_num_4_.json\n",
      "Running (9/680): configuration_files/JaccardLevenMatcher/basketball_men_players_teams_players/JaccardLevenMatcher_threshold_leven_0_7_process_num_4_.json\n",
      "Running (10/680): configuration_files/JaccardLevenMatcher/basketball_men_player_allstar_players/JaccardLevenMatcher_threshold_leven_0_7_process_num_4_.json\n",
      "Running (11/680): configuration_files/JaccardLevenMatcher/basketball_women_awards_players_players/JaccardLevenMatcher_threshold_leven_0_7_process_num_4_.json\n",
      "Running (12/680): configuration_files/JaccardLevenMatcher/basketball_women_players_teams_players/JaccardLevenMatcher_threshold_leven_0_7_process_num_4_.json\n",
      "Running (13/680): configuration_files/JaccardLevenMatcher/biodegradability_atom_molecule/JaccardLevenMatcher_threshold_leven_0_7_process_num_4_.json\n",
      "Running (14/680): configuration_files/JaccardLevenMatcher/biodegradability_bond_atom/JaccardLevenMatcher_threshold_leven_0_7_process_num_4_.json\n",
      "Running (15/680): configuration_files/JaccardLevenMatcher/biodegradability_gmember_atom/JaccardLevenMatcher_threshold_leven_0_7_process_num_4_.json\n",
      "Running (16/680): configuration_files/JaccardLevenMatcher/biodegradability_gmember_group/JaccardLevenMatcher_threshold_leven_0_7_process_num_4_.json\n",
      "Running (17/680): configuration_files/JaccardLevenMatcher/bupa_alkphos_bupa_name/JaccardLevenMatcher_threshold_leven_0_7_process_num_4_.json\n",
      "Running (18/680): configuration_files/JaccardLevenMatcher/bupa_bupa_bupa_name/JaccardLevenMatcher_threshold_leven_0_7_process_num_4_.json\n",
      "Running (19/680): configuration_files/JaccardLevenMatcher/bupa_bupa_bupa_type/JaccardLevenMatcher_threshold_leven_0_7_process_num_4_.json\n",
      "Running (20/680): configuration_files/JaccardLevenMatcher/bupa_drinks_bupa_name/JaccardLevenMatcher_threshold_leven_0_7_process_num_4_.json\n",
      "Running (21/680): configuration_files/JaccardLevenMatcher/bupa_gammagt_bupa_name/JaccardLevenMatcher_threshold_leven_0_7_process_num_4_.json\n",
      "Running (22/680): configuration_files/JaccardLevenMatcher/bupa_mcv_bupa_name/JaccardLevenMatcher_threshold_leven_0_7_process_num_4_.json\n",
      "Running (23/680): configuration_files/JaccardLevenMatcher/bupa_sgot_bupa_name/JaccardLevenMatcher_threshold_leven_0_7_process_num_4_.json\n",
      "Running (24/680): configuration_files/JaccardLevenMatcher/bupa_sgpt_bupa_name/JaccardLevenMatcher_threshold_leven_0_7_process_num_4_.json\n",
      "Running (25/680): configuration_files/JaccardLevenMatcher/carcinogenesis_atom_canc/JaccardLevenMatcher_threshold_leven_0_7_process_num_4_.json\n",
      "Running (26/680): configuration_files/JaccardLevenMatcher/carcinogenesis_sbond_1_atom/JaccardLevenMatcher_threshold_leven_0_7_process_num_4_.json\n",
      "Running (27/680): configuration_files/JaccardLevenMatcher/carcinogenesis_sbond_1_canc/JaccardLevenMatcher_threshold_leven_0_7_process_num_4_.json\n",
      "Running (28/680): configuration_files/JaccardLevenMatcher/carcinogenesis_sbond_2_atom/JaccardLevenMatcher_threshold_leven_0_7_process_num_4_.json\n",
      "Running (29/680): configuration_files/JaccardLevenMatcher/carcinogenesis_sbond_2_canc/JaccardLevenMatcher_threshold_leven_0_7_process_num_4_.json\n",
      "Running (30/680): configuration_files/JaccardLevenMatcher/carcinogenesis_sbond_3_atom/JaccardLevenMatcher_threshold_leven_0_7_process_num_4_.json\n",
      "Running (31/680): configuration_files/JaccardLevenMatcher/carcinogenesis_sbond_3_canc/JaccardLevenMatcher_threshold_leven_0_7_process_num_4_.json\n",
      "Running (32/680): configuration_files/JaccardLevenMatcher/carcinogenesis_sbond_7_atom/JaccardLevenMatcher_threshold_leven_0_7_process_num_4_.json\n",
      "Running (33/680): configuration_files/JaccardLevenMatcher/carcinogenesis_sbond_7_canc/JaccardLevenMatcher_threshold_leven_0_7_process_num_4_.json\n",
      "Running (34/680): configuration_files/JaccardLevenMatcher/ccs_transactions_customers/JaccardLevenMatcher_threshold_leven_0_7_process_num_4_.json\n",
      "Running (35/680): configuration_files/JaccardLevenMatcher/ccs_transactions_gasstations/JaccardLevenMatcher_threshold_leven_0_7_process_num_4_.json\n",
      "Running (36/680): configuration_files/JaccardLevenMatcher/ccs_transactions_products/JaccardLevenMatcher_threshold_leven_0_7_process_num_4_.json\n",
      "Running (37/680): configuration_files/JaccardLevenMatcher/ccs_yearmonth_customers/JaccardLevenMatcher_threshold_leven_0_7_process_num_4_.json\n",
      "Running (38/680): configuration_files/JaccardLevenMatcher/cdeschools_frpm_schools/JaccardLevenMatcher_threshold_leven_0_7_process_num_4_.json\n"
     ]
    }
   ],
   "source": [
    "for i, dataset in enumerate(datasets):\n",
    "    config = f\"configuration_files/{algorithm}/{dataset}/{algorithm}{params}.json\"\n",
    "    print(f\"Running ({i}/{len(datasets)}): {config}\")\n",
    "    call = f\"python run_job.py --conf={config}\"\n",
    "    os.system(call)"
   ]
  },
  {
   "cell_type": "code",
   "execution_count": null,
   "id": "6165b900",
   "metadata": {},
   "outputs": [],
   "source": []
  },
  {
   "cell_type": "code",
   "execution_count": 5,
   "id": "3b36839a",
   "metadata": {},
   "outputs": [],
   "source": [
    "algorithm = \"LLMMatcher\"\n",
    "params = \"_\""
   ]
  },
  {
   "cell_type": "code",
   "execution_count": 6,
   "id": "f2767d9f",
   "metadata": {},
   "outputs": [],
   "source": [
    "import json"
   ]
  },
  {
   "cell_type": "code",
   "execution_count": 7,
   "id": "49d273de",
   "metadata": {},
   "outputs": [],
   "source": [
    "outputs = os.listdir(f\"output/{algorithm}/\")"
   ]
  },
  {
   "cell_type": "code",
   "execution_count": 8,
   "id": "dba597a4",
   "metadata": {},
   "outputs": [],
   "source": [
    "recalls = {}\n",
    "\n",
    "for i, output in enumerate(outputs):\n",
    "    #joinable = False\n",
    "    #for keyword in ['both_50_', 'vertical','_joinable'] :\n",
    "    #    if keyword in output:\n",
    "    #        joinable = True\n",
    "    # \n",
    "    #if not joinable:\n",
    "    #    continue\n",
    "        \n",
    "    with open(f\"output/{algorithm}/{output}\") as f:\n",
    "        output_j = json.load(f)\n",
    "        #precs.append(output[\"metrics\"][\"precision\"])\n",
    "        recalls[output[:output.find(\"__\")]] = output_j[\"metrics\"][\"recall_at_sizeof_ground_truth\"]\n",
    "        "
   ]
  },
  {
   "cell_type": "code",
   "execution_count": 9,
   "id": "09313fc6",
   "metadata": {},
   "outputs": [],
   "source": [
    "import numpy as np\n",
    "\n",
    "recalls_llm = recalls"
   ]
  },
  {
   "cell_type": "code",
   "execution_count": 10,
   "id": "72a7fce7",
   "metadata": {},
   "outputs": [
    {
     "data": {
      "text/plain": [
       "0.625"
      ]
     },
     "execution_count": 10,
     "metadata": {},
     "output_type": "execute_result"
    }
   ],
   "source": [
    "np.mean(list(recalls_llm.values()))"
   ]
  },
  {
   "cell_type": "code",
   "execution_count": 28,
   "id": "69a04f17",
   "metadata": {},
   "outputs": [
    {
     "data": {
      "text/plain": [
       "0.625"
      ]
     },
     "execution_count": 28,
     "metadata": {},
     "output_type": "execute_result"
    }
   ],
   "source": [
    "np.mean(list(recalls_llm.values()))"
   ]
  },
  {
   "cell_type": "code",
   "execution_count": 38,
   "id": "84dcdd7f",
   "metadata": {},
   "outputs": [
    {
     "data": {
      "text/plain": [
       "{'arnaud_citeseer_content_paper': 1.0,\n",
       " 'Atherosclerosis_Contr_Entry': 0.0,\n",
       " 'Atherosclerosis_Death_Entry': 1.0,\n",
       " 'Atherosclerosis_Letter_Entry': 0.0,\n",
       " 'AustralianFootball_matches_teams': 0.0,\n",
       " 'AustralianFootball_match_stats_matches': 1.0,\n",
       " 'AustralianFootball_match_stats_players': 1.0}"
      ]
     },
     "execution_count": 38,
     "metadata": {},
     "output_type": "execute_result"
    }
   ],
   "source": [
    "recalls_llm"
   ]
  },
  {
   "cell_type": "code",
   "execution_count": 29,
   "id": "2f8611d8",
   "metadata": {},
   "outputs": [
    {
     "data": {
      "text/plain": [
       "{'arnaud_citeseer_content_paper': 1.0,\n",
       " 'Atherosclerosis_Contr_Entry': 0.0,\n",
       " 'Atherosclerosis_Death_Entry': 1.0,\n",
       " 'Atherosclerosis_Letter_Entry': 1.0,\n",
       " 'AustralianFootball_matches_teams': 0.0,\n",
       " 'AustralianFootball_match_stats_matches': 1.0,\n",
       " 'AustralianFootball_match_stats_players': 1.0,\n",
       " 'AustralianFootball_match_stats_teams': 0.0}"
      ]
     },
     "execution_count": 29,
     "metadata": {},
     "output_type": "execute_result"
    }
   ],
   "source": [
    "recalls_llm"
   ]
  },
  {
   "cell_type": "code",
   "execution_count": null,
   "id": "5d90b0a2",
   "metadata": {},
   "outputs": [],
   "source": []
  },
  {
   "cell_type": "code",
   "execution_count": 14,
   "id": "864819ab",
   "metadata": {},
   "outputs": [],
   "source": [
    "algorithm = \"JaccardLevenMatcher\"\n",
    "conf = \"0.7\"\n",
    "outputs = os.listdir(f\"output/{algorithm}/\")"
   ]
  },
  {
   "cell_type": "code",
   "execution_count": 15,
   "id": "577c749b",
   "metadata": {},
   "outputs": [],
   "source": [
    "precs = {}\n",
    "recalls = {}\n",
    "\n",
    "for i, output in enumerate(outputs):\n",
    "    #joinable = False\n",
    "    #for keyword in ['both_50_', 'vertical','_joinable'] :\n",
    "    #    if keyword in output:\n",
    "    #        joinable = True\n",
    "    #\n",
    "    #if not joinable:\n",
    "    #    continue\n",
    "        \n",
    "    #if not conf in output:\n",
    "    #    continue\n",
    "\n",
    "    with open(f\"output/{algorithm}/{output}\") as f:\n",
    "        output_j = json.load(f)\n",
    "        recalls[output[:output.find(\"__\")]] = output_j[\"metrics\"][\"recall_at_sizeof_ground_truth\"]\n",
    "\n"
   ]
  },
  {
   "cell_type": "code",
   "execution_count": 16,
   "id": "ce30ee56",
   "metadata": {},
   "outputs": [],
   "source": [
    "recalls_jacc = recalls"
   ]
  },
  {
   "cell_type": "code",
   "execution_count": 17,
   "id": "d5939c77",
   "metadata": {},
   "outputs": [
    {
     "data": {
      "text/plain": [
       "0.5"
      ]
     },
     "execution_count": 17,
     "metadata": {},
     "output_type": "execute_result"
    }
   ],
   "source": [
    "np.mean(list(recalls_jacc.values()))"
   ]
  },
  {
   "cell_type": "code",
   "execution_count": 38,
   "id": "3492a2e5",
   "metadata": {},
   "outputs": [
    {
     "data": {
      "text/plain": [
       "0.5"
      ]
     },
     "execution_count": 38,
     "metadata": {},
     "output_type": "execute_result"
    }
   ],
   "source": [
    "np.mean(list(recalls_jacc.values()))"
   ]
  },
  {
   "cell_type": "code",
   "execution_count": 46,
   "id": "1f2d37e8",
   "metadata": {},
   "outputs": [
    {
     "data": {
      "text/plain": [
       "{'arnaud_citeseer_content_paper': 1.0,\n",
       " 'Atherosclerosis_Contr_Entry': 0.0,\n",
       " 'Atherosclerosis_Death_Entry': 0.0,\n",
       " 'Atherosclerosis_Letter_Entry': 0.0,\n",
       " 'AustralianFootball_matches_teams': 0.0,\n",
       " 'AustralianFootball_match_stats_matches': 1.0,\n",
       " 'AustralianFootball_match_stats_players': 1.0,\n",
       " 'AustralianFootball_match_stats_teams': 1.0}"
      ]
     },
     "execution_count": 46,
     "metadata": {},
     "output_type": "execute_result"
    }
   ],
   "source": [
    "recalls_jacc"
   ]
  },
  {
   "cell_type": "code",
   "execution_count": 39,
   "id": "fb420774",
   "metadata": {},
   "outputs": [
    {
     "data": {
      "text/plain": [
       "{'arnaud_citeseer_content_paper': 1.0,\n",
       " 'Atherosclerosis_Contr_Entry': 0.0,\n",
       " 'Atherosclerosis_Death_Entry': 0.0,\n",
       " 'Atherosclerosis_Letter_Entry': 0.0,\n",
       " 'AustralianFootball_matches_teams': 0.0,\n",
       " 'AustralianFootball_match_stats_matches': 1.0,\n",
       " 'AustralianFootball_match_stats_players': 1.0,\n",
       " 'AustralianFootball_match_stats_teams': 1.0}"
      ]
     },
     "execution_count": 39,
     "metadata": {},
     "output_type": "execute_result"
    }
   ],
   "source": [
    "recalls_jacc"
   ]
  },
  {
   "cell_type": "code",
   "execution_count": 47,
   "id": "fe752106",
   "metadata": {},
   "outputs": [
    {
     "name": "stdout",
     "output_type": "stream",
     "text": [
      "Atherosclerosis_Death_Entry: llm: 1.0 jacc: 0.0\n"
     ]
    }
   ],
   "source": [
    "for output in recalls_jacc:\n",
    "    try:\n",
    "        matches_llm = recalls_llm[output]\n",
    "        matches_jacc = recalls_jacc[output]\n",
    "        if matches_llm > matches_jacc:\n",
    "            print(f\"{output}: llm: {matches_llm} jacc: {matches_jacc}\")\n",
    "    except:\n",
    "        continue"
   ]
  },
  {
   "cell_type": "code",
   "execution_count": 48,
   "id": "03b1d4fe",
   "metadata": {},
   "outputs": [],
   "source": [
    "for output in recalls_jacc:\n",
    "    try:\n",
    "        matches_llm = recalls_llm[output]\n",
    "        matches_jacc = recalls_jacc[output]\n",
    "        if matches_llm < matches_jacc:\n",
    "            print(f\"{output}: llm: {matches_llm} jacc: {matches_jacc}\")\n",
    "    except:\n",
    "        continue"
   ]
  },
  {
   "cell_type": "code",
   "execution_count": null,
   "id": "d750eb5a",
   "metadata": {},
   "outputs": [],
   "source": []
  }
 ],
 "metadata": {
  "kernelspec": {
   "display_name": "Python 3 (ipykernel)",
   "language": "python",
   "name": "python3"
  },
  "language_info": {
   "codemirror_mode": {
    "name": "ipython",
    "version": 3
   },
   "file_extension": ".py",
   "mimetype": "text/x-python",
   "name": "python",
   "nbconvert_exporter": "python",
   "pygments_lexer": "ipython3",
   "version": "3.10.11"
  }
 },
 "nbformat": 4,
 "nbformat_minor": 5
}
